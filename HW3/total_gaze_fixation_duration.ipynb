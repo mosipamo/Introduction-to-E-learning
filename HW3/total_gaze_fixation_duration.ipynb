{
 "cells": [
  {
   "cell_type": "code",
   "execution_count": 2,
   "id": "b199c4ac",
   "metadata": {},
   "outputs": [],
   "source": [
    "import pandas as pd"
   ]
  },
  {
   "cell_type": "code",
   "execution_count": 5,
   "id": "7d6d8d29",
   "metadata": {},
   "outputs": [
    {
     "name": "stdout",
     "output_type": "stream",
     "text": [
      "(469, 14)\n"
     ]
    },
    {
     "data": {
      "text/html": [
       "<div>\n",
       "<style scoped>\n",
       "    .dataframe tbody tr th:only-of-type {\n",
       "        vertical-align: middle;\n",
       "    }\n",
       "\n",
       "    .dataframe tbody tr th {\n",
       "        vertical-align: top;\n",
       "    }\n",
       "\n",
       "    .dataframe thead th {\n",
       "        text-align: right;\n",
       "    }\n",
       "</style>\n",
       "<table border=\"1\" class=\"dataframe\">\n",
       "  <thead>\n",
       "    <tr style=\"text-align: right;\">\n",
       "      <th></th>\n",
       "      <th>id</th>\n",
       "      <th>start_timestamp</th>\n",
       "      <th>duration</th>\n",
       "      <th>start_frame_index</th>\n",
       "      <th>end_frame_index</th>\n",
       "      <th>norm_pos_x</th>\n",
       "      <th>norm_pos_y</th>\n",
       "      <th>dispersion</th>\n",
       "      <th>confidence</th>\n",
       "      <th>method</th>\n",
       "      <th>gaze_point_3d_x</th>\n",
       "      <th>gaze_point_3d_y</th>\n",
       "      <th>gaze_point_3d_z</th>\n",
       "      <th>base_data</th>\n",
       "    </tr>\n",
       "  </thead>\n",
       "  <tbody>\n",
       "    <tr>\n",
       "      <th>0</th>\n",
       "      <td>2</td>\n",
       "      <td>329353.629298</td>\n",
       "      <td>217.7835</td>\n",
       "      <td>0</td>\n",
       "      <td>1</td>\n",
       "      <td>0.464232</td>\n",
       "      <td>0.588083</td>\n",
       "      <td>1.238862</td>\n",
       "      <td>0.967885</td>\n",
       "      <td>3d gaze</td>\n",
       "      <td>-12.347013</td>\n",
       "      <td>-14.903240</td>\n",
       "      <td>154.761715</td>\n",
       "      <td>329353.6292975 329353.6318005 329353.6343035 3...</td>\n",
       "    </tr>\n",
       "    <tr>\n",
       "      <th>1</th>\n",
       "      <td>3</td>\n",
       "      <td>329353.849585</td>\n",
       "      <td>142.6860</td>\n",
       "      <td>1</td>\n",
       "      <td>3</td>\n",
       "      <td>0.452201</td>\n",
       "      <td>0.600854</td>\n",
       "      <td>1.001847</td>\n",
       "      <td>0.989386</td>\n",
       "      <td>3d gaze</td>\n",
       "      <td>-15.282995</td>\n",
       "      <td>-16.744772</td>\n",
       "      <td>154.721245</td>\n",
       "      <td>329353.8495845 329353.85208750004 329353.85459...</td>\n",
       "    </tr>\n",
       "    <tr>\n",
       "      <th>2</th>\n",
       "      <td>4</td>\n",
       "      <td>329354.240094</td>\n",
       "      <td>217.7840</td>\n",
       "      <td>10</td>\n",
       "      <td>17</td>\n",
       "      <td>0.449916</td>\n",
       "      <td>0.618521</td>\n",
       "      <td>1.413271</td>\n",
       "      <td>0.945136</td>\n",
       "      <td>3d gaze</td>\n",
       "      <td>-16.638742</td>\n",
       "      <td>-20.200096</td>\n",
       "      <td>162.207665</td>\n",
       "      <td>329354.2400935 329354.2451 329354.247603 32935...</td>\n",
       "    </tr>\n",
       "    <tr>\n",
       "      <th>3</th>\n",
       "      <td>5</td>\n",
       "      <td>329354.460381</td>\n",
       "      <td>217.7840</td>\n",
       "      <td>17</td>\n",
       "      <td>23</td>\n",
       "      <td>0.446518</td>\n",
       "      <td>0.617320</td>\n",
       "      <td>0.660805</td>\n",
       "      <td>0.998861</td>\n",
       "      <td>3d gaze</td>\n",
       "      <td>-17.191172</td>\n",
       "      <td>-19.667667</td>\n",
       "      <td>159.356243</td>\n",
       "      <td>329354.4603805 329354.46288350003 329354.46538...</td>\n",
       "    </tr>\n",
       "    <tr>\n",
       "      <th>4</th>\n",
       "      <td>6</td>\n",
       "      <td>329354.680668</td>\n",
       "      <td>217.7840</td>\n",
       "      <td>23</td>\n",
       "      <td>30</td>\n",
       "      <td>0.442908</td>\n",
       "      <td>0.612542</td>\n",
       "      <td>0.579349</td>\n",
       "      <td>0.998918</td>\n",
       "      <td>3d gaze</td>\n",
       "      <td>-17.791657</td>\n",
       "      <td>-18.661575</td>\n",
       "      <td>156.714590</td>\n",
       "      <td>329354.6806675 329354.683171 329354.6856745 32...</td>\n",
       "    </tr>\n",
       "  </tbody>\n",
       "</table>\n",
       "</div>"
      ],
      "text/plain": [
       "   id  start_timestamp  duration  start_frame_index  end_frame_index  \\\n",
       "0   2    329353.629298  217.7835                  0                1   \n",
       "1   3    329353.849585  142.6860                  1                3   \n",
       "2   4    329354.240094  217.7840                 10               17   \n",
       "3   5    329354.460381  217.7840                 17               23   \n",
       "4   6    329354.680668  217.7840                 23               30   \n",
       "\n",
       "   norm_pos_x  norm_pos_y  dispersion  confidence   method  gaze_point_3d_x  \\\n",
       "0    0.464232    0.588083    1.238862    0.967885  3d gaze       -12.347013   \n",
       "1    0.452201    0.600854    1.001847    0.989386  3d gaze       -15.282995   \n",
       "2    0.449916    0.618521    1.413271    0.945136  3d gaze       -16.638742   \n",
       "3    0.446518    0.617320    0.660805    0.998861  3d gaze       -17.191172   \n",
       "4    0.442908    0.612542    0.579349    0.998918  3d gaze       -17.791657   \n",
       "\n",
       "   gaze_point_3d_y  gaze_point_3d_z  \\\n",
       "0       -14.903240       154.761715   \n",
       "1       -16.744772       154.721245   \n",
       "2       -20.200096       162.207665   \n",
       "3       -19.667667       159.356243   \n",
       "4       -18.661575       156.714590   \n",
       "\n",
       "                                           base_data  \n",
       "0  329353.6292975 329353.6318005 329353.6343035 3...  \n",
       "1  329353.8495845 329353.85208750004 329353.85459...  \n",
       "2  329354.2400935 329354.2451 329354.247603 32935...  \n",
       "3  329354.4603805 329354.46288350003 329354.46538...  \n",
       "4  329354.6806675 329354.683171 329354.6856745 32...  "
      ]
     },
     "execution_count": 5,
     "metadata": {},
     "output_type": "execute_result"
    }
   ],
   "source": [
    "file_path = \"./fixations.csv\"\n",
    "df = pd.read_csv(file_path)\n",
    "print(df.shape)\n",
    "df.head()"
   ]
  },
  {
   "cell_type": "code",
   "execution_count": 7,
   "id": "ab9f094e",
   "metadata": {},
   "outputs": [
    {
     "data": {
      "text/plain": [
       "count    469.000000\n",
       "mean     164.912326\n",
       "std       52.676385\n",
       "min       80.104000\n",
       "25%      112.646500\n",
       "50%      177.732000\n",
       "75%      217.783500\n",
       "max      217.784500\n",
       "Name: duration, dtype: float64"
      ]
     },
     "execution_count": 7,
     "metadata": {},
     "output_type": "execute_result"
    }
   ],
   "source": [
    "df[\"duration\"].describe()"
   ]
  },
  {
   "cell_type": "code",
   "execution_count": 9,
   "id": "5b2d04c8",
   "metadata": {},
   "outputs": [
    {
     "data": {
      "text/plain": [
       "duration\n",
       "217.7840    51\n",
       "217.7840    37\n",
       "217.7835    28\n",
       "217.7835    21\n",
       "215.2805    15\n",
       "            ..\n",
       "97.6270      1\n",
       "125.1635     1\n",
       "157.1265     1\n",
       "85.1105      1\n",
       "137.6790     1\n",
       "Name: count, Length: 173, dtype: int64"
      ]
     },
     "execution_count": 9,
     "metadata": {},
     "output_type": "execute_result"
    }
   ],
   "source": [
    "df[\"duration\"].value_counts()"
   ]
  },
  {
   "cell_type": "code",
   "execution_count": 10,
   "id": "c5b8449a",
   "metadata": {},
   "outputs": [],
   "source": [
    "total_duration_ms = df['duration'].sum()\n",
    "total_duration_sec = total_duration_ms / 1000\n",
    "total_duration_min = total_duration_sec / 60"
   ]
  },
  {
   "cell_type": "code",
   "execution_count": null,
   "id": "55a4ceda",
   "metadata": {},
   "outputs": [],
   "source": [
    "print(f\"Total gaze fixation duration: {total_duration_ms:.2f} ms\")\n",
    "print(f\"Total gaze fixation duration: {total_duration_sec:.2f} s\")\n",
    "print(f\"Total gaze fixation duration: {total_duration_min:.2f} min\")"
   ]
  }
 ],
 "metadata": {
  "kernelspec": {
   "display_name": "Python 3",
   "language": "python",
   "name": "python3"
  },
  "language_info": {
   "codemirror_mode": {
    "name": "ipython",
    "version": 3
   },
   "file_extension": ".py",
   "mimetype": "text/x-python",
   "name": "python",
   "nbconvert_exporter": "python",
   "pygments_lexer": "ipython3",
   "version": "3.12.3"
  }
 },
 "nbformat": 4,
 "nbformat_minor": 5
}
